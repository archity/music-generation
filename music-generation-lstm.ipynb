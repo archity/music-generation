{
 "cells": [
  {
   "cell_type": "markdown",
   "source": [
    "# Music Generation using LSTMs\n",
    "\n",
    "* Reference taken from:\n",
    "    * [Karnika Kapoor - Kaggle](https://www.kaggle.com/karnikakapoor/music-generation-lstm/notebook)\n",
    "    * [AnalyticsVidhya](https://www.analyticsvidhya.com/blog/2020/01/how-to-perform-automatic-music-generation/)"
   ],
   "metadata": {
    "collapsed": false,
    "pycharm": {
     "name": "#%% md\n"
    }
   }
  },
  {
   "cell_type": "code",
   "execution_count": 1,
   "outputs": [],
   "source": [
    "import os\n",
    "from music21 import *\n",
    "import warnings\n",
    "warnings.filterwarnings(\"ignore\")\n",
    "warnings.simplefilter(\"ignore\")"
   ],
   "metadata": {
    "collapsed": false,
    "pycharm": {
     "name": "#%%\n"
    }
   }
  },
  {
   "cell_type": "markdown",
   "metadata": {
    "collapsed": true,
    "pycharm": {
     "name": "#%% md\n"
    }
   },
   "source": [
    "## 1. Loading and parsing data\n"
   ]
  },
  {
   "cell_type": "code",
   "execution_count": 2,
   "outputs": [],
   "source": [
    "# Loading the list of chopin's midi files as stream\n",
    "filepath = \"./data/classical-music-midi/mozart/\"\n",
    "# Getting midi files\n",
    "all_midis= []\n",
    "for i in os.listdir(filepath):\n",
    "    if i.endswith(\".mid\"):\n",
    "        tr = filepath+i\n",
    "        midi = converter.parse(tr)\n",
    "        all_midis.append(midi)"
   ],
   "metadata": {
    "collapsed": false,
    "pycharm": {
     "name": "#%%\n"
    }
   }
  },
  {
   "cell_type": "code",
   "execution_count": 3,
   "outputs": [
    {
     "name": "stdout",
     "output_type": "stream",
     "text": [
      "Total notes in all the Chopin midis in the dataset: 55802\n"
     ]
    }
   ],
   "source": [
    "# Helping function\n",
    "def extract_notes(file):\n",
    "    notes = []\n",
    "    pick = None\n",
    "    for j in file:\n",
    "        # Arranges the midi file contents by instruments\n",
    "        # Same instruments would be together, so it might rearrange the order of different notes\n",
    "        songs = instrument.partitionByInstrument(j)\n",
    "        # Iterate over each instrument\n",
    "        for part in songs.parts:\n",
    "            # Calls RecursiveIterator, which is a good way for iterating\n",
    "            pick = part.recurse()\n",
    "            # For every element in an instrument, check whether it's a\n",
    "            # note or a chord\n",
    "            for element in pick:\n",
    "                if isinstance(element, note.Note):\n",
    "                    notes.append(str(element.pitch))\n",
    "                elif isinstance(element, chord.Chord):\n",
    "                    notes.append(\".\".join(str(n) for n in element.normalOrder))\n",
    "\n",
    "    return notes\n",
    "# Getting the list of notes as Corpus\n",
    "Corpus= extract_notes(all_midis)\n",
    "print(\"Total notes in all the Chopin midis in the dataset:\", len(Corpus))\n"
   ],
   "metadata": {
    "collapsed": false,
    "pycharm": {
     "name": "#%%\n"
    }
   }
  },
  {
   "cell_type": "markdown",
   "source": [
    "## Data Exploration"
   ],
   "metadata": {
    "collapsed": false
   }
  },
  {
   "cell_type": "code",
   "execution_count": 4,
   "outputs": [
    {
     "name": "stdout",
     "output_type": "stream",
     "text": [
      "First fifty values in the Corpus: ['2.6.9', '9.2', 'G5', '2.6', 'F#5', 'E5', 'F#5', 'A5', '4.7', 'G5', 'F#5', 'G5', 'A5', '6.9', 'A5', 'B5', 'C#6', 'D6', 'A5', 'F#3', 'D4', 'F#5', 'D3', 'D4', 'A5', 'E3', 'G5', 'F#5', 'D4', 'G5', 'A5', 'A3', 'G5', 'C#4', 'F5', '2', 'F#5', 'G5', '2.6', 'F#5', 'E5', 'F#5', 'A5', '4.7', 'G5', 'F#5', 'G5', 'A5', '6.9', 'A5']\n"
     ]
    }
   ],
   "source": [
    "print(\"First fifty values in the Corpus:\", Corpus[:50])"
   ],
   "metadata": {
    "collapsed": false,
    "pycharm": {
     "name": "#%%\n"
    }
   }
  },
  {
   "cell_type": "code",
   "execution_count": 5,
   "outputs": [
    {
     "name": "stdout",
     "output_type": "stream",
     "text": [
      "Total unique notes in the Corpus: 229\n"
     ]
    }
   ],
   "source": [
    "from collections import Counter\n",
    "\n",
    "# Creating a count dictionary\n",
    "# Since Counter creates a dictionary type object, it will only store unique elements (no duplicates)\n",
    "count_num = Counter(Corpus)\n",
    "print(\"Total unique notes in the Corpus:\", len(count_num))"
   ],
   "metadata": {
    "collapsed": false,
    "pycharm": {
     "name": "#%%\n"
    }
   }
  },
  {
   "cell_type": "code",
   "execution_count": 10,
   "outputs": [
    {
     "data": {
      "text/plain": "dict_keys(['2.6.9', '9.2', 'G5', '2.6', 'F#5', 'E5', 'A5', '4.7', '6.9', 'B5', 'C#6', 'D6', 'F#3', 'D4', 'D3', 'E3', 'A3', 'C#4', 'F5', '2', 'D5', 'F#4', 'A4', '6.7', 'C#5', 'E4', 'G4', 'B3', '7.9', 'G3', '7.11', 'E-5', '8.11', 'B4', 'C#3', 'A2', '4.9', '1.4', '9.1.4', '1.2', 'G#5', 'G#3', 'G#4', 'C5', '4.8', '4.6', '3.4', '2.4', '8.9', '6.8', 'E-4', 'B2', 'G#2', 'E2', '4.6.8', '11.1', '9.11', '9.1', '4.8.11', '8.11.2', '5', '6', '11.2', '11', '11.3', '3.6', 'G2', 'F#2', 'B-4', '9', 'D2', '8', '10', 'F3', 'B-5', 'B-3', '10.1', '10.1.4', 'B1', '11.2.6', '0.2.6', '7', '0.4', 'C4', '2.4.6', 'C3', '2.7', '11.4', 'C6', '9.0', 'F4', '4', 'E6', '9.11.1', '1.4.7', '7.0', '0', '7.9.11', '6.7.9', '6.9.11', '4.7.9', '2.8', '4.6.7', '8.9.11', '1', '4.7.10', '4.7.11', '7.11.2', '2.4.9', '7.9.1', '11.0.2', '9.11.0', '0.2', '1.7', '3', '11.0', '1.2.4', 'E-3', '9.0.3', '5.7.11', '2.5.8', '9.0.4', '0.4.7', 'E-6', '0.2.7', '9.11.0.2', 'C2', '11.2.4', '10.11.1', '2.4.8', '4.10', '1.6', '0.4.6', '11.3.6', '5.11', '6.10.1', 'B-2', '9.0.2', '10.11', '1.4.7.9', '0.1', '2.3', '4.5', '0.6', '9.11.3', '6.11', '6.9.0', '5.7', '0.5', '5.9', '2.5', '6.9.0.2', '3.6.9', '10.0', '9.10', '3.7', '3.5', 'F6', '11.2.5.7', '4.5.7', '2.5.9', '5.9.0', '7.10.0', '5.10', '11.2.5', '0.3', '10.2', '7.10', '3.5.9', '10.2.5', 'F2', '8.0', '5.8', '1.5.8', '7.10.1.3', '0.1.3', '9.0.3.5', '1.5', '10.0.4', '5.8.0', '8.10', '2.4.5', '8.11.2.4', '8.1', 'A1', 'C#2', '3.9', '1.3', '3.8', '7.8', '11.1.2', '3.4.6', '5.6', '8.10.2', '9.1.2.4', '8.11.1.4', '1.4.7.10', '2.5.8.11', '2.5.7', '0.3.6', '7.10.2', '7.10.1', 'E-2', '0.3.6.9', '9.10.0', '5.7.9', '3.5.7', '3.7.10', '0.3.7', '10.0.2', '4.7.10.0', 'B-1', '1.3.7', '0.3.5', '10.3', 'G6', '6.10', '2.3.5', '7.8.10', '3.4.5', '5.7.10', '5.8.11', '5.8.10', '10.0.3', '10.2.3', '5.7.9.10.0', '9.10.0.2.3.5.7', '6.8.0', '8.10.0'])"
     },
     "execution_count": 10,
     "metadata": {},
     "output_type": "execute_result"
    }
   ],
   "source": [
    "count_num.keys()"
   ],
   "metadata": {
    "collapsed": false,
    "pycharm": {
     "name": "#%%\n"
    }
   }
  },
  {
   "cell_type": "code",
   "execution_count": 11,
   "outputs": [
    {
     "data": {
      "text/plain": "dict_values([71, 94, 1874, 196, 875, 1906, 1446, 409, 177, 550, 259, 499, 407, 1949, 647, 851, 1703, 555, 1999, 143, 2355, 474, 1778, 48, 892, 1664, 1810, 1038, 270, 1578, 236, 1031, 132, 1171, 124, 264, 157, 200, 162, 86, 457, 563, 450, 2153, 92, 106, 42, 229, 54, 20, 795, 129, 37, 73, 6, 51, 207, 286, 48, 8, 72, 52, 384, 112, 13, 51, 184, 27, 1236, 211, 33, 57, 71, 1167, 682, 1241, 58, 1, 5, 18, 12, 111, 412, 2111, 10, 603, 136, 78, 779, 303, 1551, 133, 119, 3, 8, 238, 130, 16, 9, 4, 21, 52, 8, 5, 53, 25, 10, 27, 1, 5, 11, 12, 333, 23, 60, 130, 9, 357, 8, 12, 5, 6, 49, 127, 1, 1, 22, 13, 4, 8, 37, 6, 1, 1, 25, 1, 235, 32, 10, 1, 11, 64, 152, 1, 1, 20, 9, 217, 85, 295, 341, 4, 10, 203, 51, 240, 84, 109, 14, 9, 40, 69, 14, 81, 18, 192, 189, 241, 9, 44, 116, 106, 140, 10, 2, 4, 10, 5, 19, 2, 29, 2, 6, 22, 14, 2, 34, 11, 41, 26, 6, 5, 7, 2, 4, 8, 8, 12, 16, 23, 24, 9, 11, 6, 3, 1, 3, 10, 6, 1, 8, 4, 2, 33, 51, 6, 6, 3, 2, 2, 9, 3, 3, 3, 3, 1, 2, 2, 2])"
     },
     "execution_count": 11,
     "metadata": {},
     "output_type": "execute_result"
    }
   ],
   "source": [
    "count_num.values()"
   ],
   "metadata": {
    "collapsed": false,
    "pycharm": {
     "name": "#%%\n"
    }
   }
  },
  {
   "cell_type": "code",
   "execution_count": 8,
   "outputs": [
    {
     "name": "stdout",
     "output_type": "stream",
     "text": [
      "Average recurrence for a note in Corpus: 243.6768558951965\n",
      "Most frequent note in Corpus appeared: 2355 times\n",
      "Least frequent note in Corpus appeared: 1 time\n"
     ]
    }
   ],
   "source": [
    "# Get the unique note and its corresponding number of occurrences\n",
    "notes = list(count_num.keys())\n",
    "no_of_recurrences = list(count_num.values())\n",
    "\n",
    "# Average recurrence for a note in Corpus\n",
    "def Average(lst):\n",
    "    return sum(lst) / len(lst)\n",
    "print(\"Average recurrence for a note in Corpus:\", Average(no_of_recurrences))\n",
    "print(\"Most frequent note in Corpus appeared:\", max(no_of_recurrences), \"times\")\n",
    "print(\"Least frequent note in Corpus appeared:\", min(no_of_recurrences), \"time\")"
   ],
   "metadata": {
    "collapsed": false,
    "pycharm": {
     "name": "#%%\n"
    }
   }
  },
  {
   "cell_type": "markdown",
   "source": [
    "We now plot a histogram depicting the distribution of notes wrt the number of occurrences of some group of notes (binned)"
   ],
   "metadata": {
    "collapsed": false
   }
  },
  {
   "cell_type": "code",
   "execution_count": 12,
   "outputs": [
    {
     "data": {
      "text/plain": "<Figure size 1296x216 with 1 Axes>",
      "image/png": "[encoded data removed]"
     },
     "metadata": {
      "image/png": {
       "width": 1058,
       "height": 222
      }
     },
     "output_type": "display_data"
    }
   ],
   "source": [
    "import numpy as np\n",
    "from matplotlib import pyplot as plt\n",
    "\n",
    "# Plotting the distribution of notes\n",
    "plt.figure(figsize=(18,3),facecolor=\"#97BACB\")\n",
    "bins = np.arange(0,(max(no_of_recurrences)), 50)\n",
    "plt.hist(no_of_recurrences, bins=bins, color=\"#97BACB\")\n",
    "plt.axvline(x=100,color=\"#DBACC1\")\n",
    "plt.title(\"Frequency Distribution Of Notes In The Corpus\")\n",
    "plt.xlabel(\"Frequency Bins of Notes in Corpus\")\n",
    "plt.ylabel(\"Number of Notes\")\n",
    "plt.show()"
   ],
   "metadata": {
    "collapsed": false,
    "pycharm": {
     "name": "#%%\n"
    }
   }
  },
  {
   "cell_type": "code",
   "execution_count": null,
   "outputs": [],
   "source": [],
   "metadata": {
    "collapsed": false,
    "pycharm": {
     "name": "#%%\n"
    }
   }
  }
 ],
 "metadata": {
  "kernelspec": {
   "display_name": "Python 3",
   "language": "python",
   "name": "python3"
  },
  "language_info": {
   "codemirror_mode": {
    "name": "ipython",
    "version": 2
   },
   "file_extension": ".py",
   "mimetype": "text/x-python",
   "name": "python",
   "nbconvert_exporter": "python",
   "pygments_lexer": "ipython2",
   "version": "2.7.6"
  }
 },
 "nbformat": 4,
 "nbformat_minor": 0
}